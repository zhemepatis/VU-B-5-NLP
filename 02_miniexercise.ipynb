{
 "cells": [
  {
   "cell_type": "code",
   "execution_count": 1,
   "metadata": {},
   "outputs": [
    {
     "name": "stdout",
     "output_type": "stream",
     "text": [
      "Welcome to Vilnius University – the oldest and largest Lithuanian higher education institution. Since its establishment in the 16th century, Vilnius University, as integral part of European science and culture has embodied the concept­ of a classical university and the unity of studies and research. Vilnius University is an active participant in international scientific and academic activities and boasts many prominent scientists, professors and graduates. Scientific development and the expanding relations with global research centres have contributed to the variety of research and studies at Vilnius University. With the support of social partners, the university educates globally–minded specialists who successfully integrate in the modern European community.\n"
     ]
    }
   ],
   "source": [
    "tekstas=\"Welcome to Vilnius University – the oldest and largest Lithuanian higher education institution. Since its establishment in the 16th century, Vilnius University, as integral part of European science and culture has embodied the concept­ of a classical university and the unity of studies and research. Vilnius University is an active participant in international scientific and academic activities and boasts many prominent scientists, professors and graduates. Scientific development and the expanding relations with global research centres have contributed to the variety of research and studies at Vilnius University. With the support of social partners, the university educates globally–minded specialists who successfully integrate in the modern European community.\"\n",
    "print(tekstas)"
   ]
  },
  {
   "cell_type": "markdown",
   "metadata": {},
   "source": [
    "## Teksto skaidymas į teksto vienetus (angl. Tokenization)"
   ]
  },
  {
   "cell_type": "markdown",
   "metadata": {},
   "source": [
    "#### 1. Kiek žodžių ir skyrybos ženklų yra tekste?\n",
    "Apskaičiuokite naudodamiesi SpaCy biblioteka"
   ]
  },
  {
   "cell_type": "code",
   "execution_count": 2,
   "metadata": {
    "scrolled": true
   },
   "outputs": [
    {
     "data": {
      "text/plain": [
       "117"
      ]
     },
     "execution_count": 2,
     "metadata": {},
     "output_type": "execute_result"
    }
   ],
   "source": [
    "import spacy\n",
    "\n",
    "nlp = spacy.load('en_core_web_sm')\n",
    "doc = nlp(tekstas)\n",
    "\n",
    "doc.__len__()"
   ]
  },
  {
   "cell_type": "markdown",
   "metadata": {},
   "source": [
    "#### 2. Kiek žodžių ir skyrybos ženklų  yra tekste?\n",
    "Apskaičiuokite naudodamiesi NLTK biblioteka"
   ]
  },
  {
   "cell_type": "code",
   "execution_count": 3,
   "metadata": {},
   "outputs": [
    {
     "name": "stderr",
     "output_type": "stream",
     "text": [
      "[nltk_data] Downloading package punkt_tab to /home/rink/nltk_data...\n",
      "[nltk_data]   Package punkt_tab is already up-to-date!\n"
     ]
    },
    {
     "data": {
      "text/plain": [
       "115"
      ]
     },
     "execution_count": 3,
     "metadata": {},
     "output_type": "execute_result"
    }
   ],
   "source": [
    "import nltk\n",
    "\n",
    "nltk.download('punkt_tab')\n",
    "tokens = nltk.word_tokenize(tekstas)\n",
    "\n",
    "len(tokens)"
   ]
  },
  {
   "cell_type": "markdown",
   "metadata": {},
   "source": [
    "#### 3. Kiek sakinių yra tekste?\n",
    "Apskaičiuokite naudodamiesi SpaCy biblioteka"
   ]
  },
  {
   "cell_type": "code",
   "execution_count": 4,
   "metadata": {},
   "outputs": [
    {
     "data": {
      "text/plain": [
       "5"
      ]
     },
     "execution_count": 4,
     "metadata": {},
     "output_type": "execute_result"
    }
   ],
   "source": [
    "sentences = [item for item in doc.sents]\n",
    "sentence_num = len(sentences)\n",
    "\n",
    "sentence_num"
   ]
  },
  {
   "cell_type": "markdown",
   "metadata": {},
   "source": [
    "#### 4. Kiek sakinių yra tekste?\n",
    "Apskaičiuokite naudodamiesi NLTK biblioteka"
   ]
  },
  {
   "cell_type": "code",
   "execution_count": 5,
   "metadata": {},
   "outputs": [
    {
     "data": {
      "text/plain": [
       "5"
      ]
     },
     "execution_count": 5,
     "metadata": {},
     "output_type": "execute_result"
    }
   ],
   "source": [
    "sentences = nltk.sent_tokenize(tekstas)\n",
    "sentence_num = len(sentences)\n",
    "\n",
    "sentence_num"
   ]
  },
  {
   "cell_type": "markdown",
   "metadata": {},
   "source": [
    "#### 5. Atspausdinkite ketvirtą pateikto teksto sakinį"
   ]
  },
  {
   "cell_type": "code",
   "execution_count": 6,
   "metadata": {},
   "outputs": [
    {
     "data": {
      "text/plain": [
       "'Scientific development and the expanding relations with global research centres have contributed to the variety of research and studies at Vilnius University.'"
      ]
     },
     "execution_count": 6,
     "metadata": {},
     "output_type": "execute_result"
    }
   ],
   "source": [
    "sentences[3]"
   ]
  },
  {
   "cell_type": "markdown",
   "metadata": {},
   "source": [
    "#### 6. Išskaidykite ketvirtą sakinį į žodžius ir skyrybos ženklus."
   ]
  },
  {
   "cell_type": "code",
   "execution_count": 7,
   "metadata": {},
   "outputs": [
    {
     "data": {
      "text/plain": [
       "['Scientific',\n",
       " 'development',\n",
       " 'and',\n",
       " 'the',\n",
       " 'expanding',\n",
       " 'relations',\n",
       " 'with',\n",
       " 'global',\n",
       " 'research',\n",
       " 'centres',\n",
       " 'have',\n",
       " 'contributed',\n",
       " 'to',\n",
       " 'the',\n",
       " 'variety',\n",
       " 'of',\n",
       " 'research',\n",
       " 'and',\n",
       " 'studies',\n",
       " 'at',\n",
       " 'Vilnius',\n",
       " 'University',\n",
       " '.']"
      ]
     },
     "execution_count": 7,
     "metadata": {},
     "output_type": "execute_result"
    }
   ],
   "source": [
    "sentence =  sentences[3]\n",
    "words = nltk.word_tokenize(sentence)\n",
    "\n",
    "words"
   ]
  },
  {
   "cell_type": "markdown",
   "metadata": {},
   "source": [
    "# Pagrindinės žodžio formos nustatymas"
   ]
  },
  {
   "cell_type": "markdown",
   "metadata": {},
   "source": [
    "#### 7. Ketvirto sakinio žodžiams nustatykite pagrindines formas "
   ]
  },
  {
   "cell_type": "code",
   "execution_count": 8,
   "metadata": {},
   "outputs": [
    {
     "name": "stdout",
     "output_type": "stream",
     "text": [
      "Scientific          scientific          \n",
      "development         development         \n",
      "and                 and                 \n",
      "the                 the                 \n",
      "expanding           expand              \n",
      "relations           relation            \n",
      "with                with                \n",
      "global              global              \n",
      "research            research            \n",
      "centres             centre              \n",
      "have                have                \n",
      "contributed         contribute          \n",
      "to                  to                  \n",
      "the                 the                 \n",
      "variety             variety             \n",
      "of                  of                  \n",
      "research            research            \n",
      "and                 and                 \n",
      "studies             study               \n",
      "at                  at                  \n",
      "Vilnius             Vilnius             \n",
      "University          University          \n",
      ".                   .                   \n"
     ]
    }
   ],
   "source": [
    "sentence_doc = nlp(sentence)\n",
    "pairs = [(item.__str__(), item.lemma_) for item in sentence_doc]\n",
    "\n",
    "for (word, lemma) in pairs:\n",
    "    print(f'{word:20}{lemma:20}')"
   ]
  },
  {
   "cell_type": "markdown",
   "metadata": {},
   "source": [
    "## Žodžių kamienų išskyrimas"
   ]
  },
  {
   "cell_type": "markdown",
   "metadata": {},
   "source": [
    "#### 8. Ketvirto sakinio žodžiams išskirkite kamienus¶"
   ]
  },
  {
   "cell_type": "code",
   "execution_count": 9,
   "metadata": {},
   "outputs": [
    {
     "name": "stdout",
     "output_type": "stream",
     "text": [
      "Scientific          scientif            \n",
      "development         develop             \n",
      "and                 and                 \n",
      "the                 the                 \n",
      "expanding           expand              \n",
      "relations           relat               \n",
      "with                with                \n",
      "global              global              \n",
      "research            research            \n",
      "centres             centr               \n",
      "have                have                \n",
      "contributed         contribut           \n",
      "to                  to                  \n",
      "the                 the                 \n",
      "variety             varieti             \n",
      "of                  of                  \n",
      "research            research            \n",
      "and                 and                 \n",
      "studies             studi               \n",
      "at                  at                  \n",
      "Vilnius             vilniu              \n",
      "University          univers             \n",
      ".                   .                   \n"
     ]
    }
   ],
   "source": [
    "from nltk.stem.porter import *\n",
    "\n",
    "stemmer = PorterStemmer()\n",
    "for word in words:\n",
    "    print(f'{word:20}{stemmer.stem(word):{20}}')"
   ]
  },
  {
   "cell_type": "markdown",
   "metadata": {},
   "source": [
    "#### 9. Iš turimo teksto pašalinkite nereikšmingus žodžius (angl. stop words) ir skyrybos ženklus"
   ]
  },
  {
   "cell_type": "code",
   "execution_count": 10,
   "metadata": {},
   "outputs": [
    {
     "data": {
      "text/plain": [
       "'Welcome Vilnius University oldest largest Lithuanian higher education institution establishment 16th century Vilnius University integral European science culture embodied concept classical university unity studies research Vilnius University active participant international scientific academic activities boasts prominent scientists professors graduates Scientific development expanding relations global research centres contributed variety research studies Vilnius University support social partners university educates globally minded specialists successfully integrate modern European community'"
      ]
     },
     "execution_count": 10,
     "metadata": {},
     "output_type": "execute_result"
    }
   ],
   "source": [
    "import re\n",
    "\n",
    "# eliminating punctuation marks\n",
    "expr = \"\\w+\"\n",
    "no_punctuation = ' '.join(re.findall(expr, tekstas))\n",
    "\n",
    "# # eliminating stop words\n",
    "no_punctuation_doc = nlp(no_punctuation)\n",
    "words = [item.__str__() for item in no_punctuation_doc]\n",
    "no_stop_words_list = [item for item in words if not nlp.vocab[item].is_stop]\n",
    "no_stop_words_str = ' '.join(no_stop_words_list)\n",
    "\n",
    "no_stop_words_str"
   ]
  },
  {
   "cell_type": "markdown",
   "metadata": {},
   "source": [
    "# Darbas su lietuvišku tekstu"
   ]
  },
  {
   "cell_type": "code",
   "execution_count": 11,
   "metadata": {},
   "outputs": [],
   "source": [
    "tekstas2=\"Vilniaus universitetas (VU) – pirmasis ir didžiausias Lietuvos universitetas, įsikūręs šalies sostinėje Vilniuje ir turintis po padalinį Kaune ir Šiauliuose. Įkurtas 1579 m. VU yra šalies lyderis absoliučioje daugumoje mokslo ir studijų krypčių. Būdamas viena seniausių ir žymiausių Vidurio ir Rytų Europos aukštųjų mokyklų, VU darė didelę įtaką ne tik Lietuvos, bet ir kaimyninių šalių kultūriniam gyvenimui, išugdė ne vieną mokslininkų, poetų, kultūros veikėjų kartą. VU profesoriavo ir mokėsi daug garsių asmenybių: medikai vokiečiai Johanas Frankas ir jo sūnus Jozefas Frankas, istorikas Joachimas Lelevelis, poetai Adomas Mickevičius ir Julius Slovackis, istorikas Simonas Daukantas, rašytojas, poetas ir literatūros mokslininkas Česlovas Milošas. VU įkurtas sklindant renesanso, reformacijos ir katalikiškosios reformos idėjoms. Už VU anksčiau Europoje įkurti tik Prahos, Krokuvos, Pečo, Budapešto, Bratislavos ir Karaliaučiaus universitetai.\""
   ]
  },
  {
   "cell_type": "markdown",
   "metadata": {},
   "source": [
    "#### 10. Išskaidykite pirmąjį sakinį į žodžius ir skyrybos ženklus."
   ]
  },
  {
   "cell_type": "code",
   "execution_count": 12,
   "metadata": {},
   "outputs": [
    {
     "data": {
      "text/plain": [
       "[Vilniaus,\n",
       " universitetas,\n",
       " (,\n",
       " VU,\n",
       " ),\n",
       " –,\n",
       " pirmasis,\n",
       " ir,\n",
       " didžiausias,\n",
       " Lietuvos,\n",
       " universitetas,\n",
       " ,,\n",
       " įsikūręs,\n",
       " šalies,\n",
       " sostinėje,\n",
       " Vilniuje,\n",
       " ir,\n",
       " turintis,\n",
       " po,\n",
       " padalinį,\n",
       " Kaune,\n",
       " ir,\n",
       " Šiauliuose,\n",
       " .]"
      ]
     },
     "execution_count": 12,
     "metadata": {},
     "output_type": "execute_result"
    }
   ],
   "source": [
    "nlp = spacy.load('lt_core_news_sm')\n",
    "doc = nlp(tekstas2)\n",
    "\n",
    "# separating sentences and getting the required one\n",
    "sentences = [item for item in doc.sents]\n",
    "sentence = sentences[0].__str__()\n",
    "\n",
    "# separating words\n",
    "sentence_doc = nlp(sentence)\n",
    "words = [item for item in sentence_doc]\n",
    "\n",
    "words"
   ]
  },
  {
   "cell_type": "markdown",
   "metadata": {},
   "source": [
    "#### 11. Penktojo sakinio žodžiams nustatykite pagrindines formas"
   ]
  },
  {
   "cell_type": "code",
   "execution_count": 13,
   "metadata": {},
   "outputs": [
    {
     "name": "stdout",
     "output_type": "stream",
     "text": [
      "VU                  VU                  \n",
      "įkurtas             įkurtas             \n",
      "sklindant           sklindant           \n",
      "renesanso           renesansas          \n",
      ",                   ,                   \n",
      "reformacijos        reformacija         \n",
      "ir                  ir                  \n",
      "katalikiškosios     katalikiškas        \n",
      "reformos            reforma             \n",
      "idėjoms             idėja               \n",
      ".                   .                   \n"
     ]
    }
   ],
   "source": [
    "sentence = sentences[5].__str__()\n",
    "sentence_doc = nlp(sentence)\n",
    "\n",
    "words = [(item.__str__(), item.lemma_) for item in sentence_doc]\n",
    "for (word, lemma) in words:\n",
    "    print(f'{word:20}{lemma:20}')"
   ]
  },
  {
   "cell_type": "markdown",
   "metadata": {},
   "source": [
    "#### 12. Iš turimo teksto pašalinkite nereikšmingus žodžius (angl. stop words) is skyrybos ženkus"
   ]
  },
  {
   "cell_type": "code",
   "execution_count": 14,
   "metadata": {},
   "outputs": [
    {
     "data": {
      "text/plain": [
       "'Vilniaus universitetas VU pirmasis didžiausias Lietuvos universitetas įsikūręs šalies sostinėje Vilniuje turintis padalinį Kaune Šiauliuose Įkurtas 1579 m VU yra šalies lyderis absoliučioje daugumoje mokslo studijų krypčių Būdamas viena seniausių žymiausių Vidurio Rytų Europos aukštųjų mokyklų VU darė didelę įtaką Lietuvos kaimyninių šalių kultūriniam gyvenimui išugdė vieną mokslininkų poetų kultūros veikėjų kartą VU profesoriavo mokėsi daug garsių asmenybių medikai vokiečiai Johanas Frankas sūnus Jozefas Frankas istorikas Joachimas Lelevelis poetai Adomas Mickevičius Julius Slovackis istorikas Simonas Daukantas rašytojas poetas literatūros mokslininkas Česlovas Milošas VU įkurtas sklindant renesanso reformacijos katalikiškosios reformos idėjoms VU anksčiau Europoje įkurti Prahos Krokuvos Pečo Budapešto Bratislavos Karaliaučiaus universitetai'"
      ]
     },
     "execution_count": 14,
     "metadata": {},
     "output_type": "execute_result"
    }
   ],
   "source": [
    "import re\n",
    "\n",
    "# eliminating punctuation marks\n",
    "expr = \"\\w+\"\n",
    "no_punctuation = ' '.join(re.findall(expr, tekstas2))\n",
    "\n",
    "# # eliminating stop words\n",
    "no_punctuation_doc = nlp(no_punctuation)\n",
    "words = [item.__str__() for item in no_punctuation_doc]\n",
    "no_stop_words_list = [item for item in words if not nlp.vocab[item].is_stop]\n",
    "no_stop_words_str = ' '.join(no_stop_words_list)\n",
    "\n",
    "no_stop_words_str"
   ]
  }
 ],
 "metadata": {
  "kernelspec": {
   "display_name": "Python 3",
   "language": "python",
   "name": "python3"
  },
  "language_info": {
   "codemirror_mode": {
    "name": "ipython",
    "version": 3
   },
   "file_extension": ".py",
   "mimetype": "text/x-python",
   "name": "python",
   "nbconvert_exporter": "python",
   "pygments_lexer": "ipython3",
   "version": "3.11.9"
  }
 },
 "nbformat": 4,
 "nbformat_minor": 2
}
