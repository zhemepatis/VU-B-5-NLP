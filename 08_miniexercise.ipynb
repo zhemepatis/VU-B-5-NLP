{
 "cells": [
  {
   "cell_type": "code",
   "execution_count": 23,
   "metadata": {},
   "outputs": [],
   "source": [
    "import pandas\n",
    "\n",
    "# reading csv file\n",
    "tweets_df = pandas.read_csv(\"data/08_data.csv\")[[\"airline_sentiment\", \"text\"]]"
   ]
  },
  {
   "cell_type": "code",
   "execution_count": 24,
   "metadata": {},
   "outputs": [],
   "source": [
    "from sklearn.metrics import accuracy_score, precision_score, recall_score, f1_score\n",
    "\n",
    "def get_sentiment(compound_score, negative_threshold, positive_threshold):\n",
    "    if compound_score < negative_threshold:\n",
    "        return \"negative\"\n",
    "    elif compound_score > positive_threshold:\n",
    "        return \"positive\"\n",
    "    else:\n",
    "        return \"neutral\"\n",
    "    \n",
    "def print_stats(expected_col_name, result_col_name):\n",
    "    accuracy = accuracy_score(tweets_df[expected_col_name], tweets_df[result_col_name])\n",
    "    precision = precision_score(tweets_df[expected_col_name], tweets_df[result_col_name], average=\"weighted\")\n",
    "    recall = recall_score(tweets_df[expected_col_name], tweets_df[result_col_name], average=\"weighted\")\n",
    "    f1 = f1_score(tweets_df[expected_col_name], tweets_df[result_col_name], average=\"weighted\")\n",
    "\n",
    "    print(f\"accuracy: {accuracy:5}\")\n",
    "    print(f\"precision: {precision:5}\")\n",
    "    print(f\"recall: {recall:5}\")\n",
    "    print(f\"f1: {f1:5}\")"
   ]
  },
  {
   "cell_type": "code",
   "execution_count": 28,
   "metadata": {},
   "outputs": [
    {
     "name": "stdout",
     "output_type": "stream",
     "text": [
      "accuracy: 0.542827868852459\n",
      "precision: 0.6985683472029285\n",
      "recall: 0.542827868852459\n",
      "f1: 0.5653261711946944\n"
     ]
    }
   ],
   "source": [
    "from nltk.sentiment.vader import SentimentIntensityAnalyzer\n",
    "    \n",
    "# nltk.download('vader_lexicon')\n",
    "\n",
    "sia = SentimentIntensityAnalyzer()\n",
    "tweets_df[\"compound_scores\"] = tweets_df[\"text\"].apply(lambda tweet: sia.polarity_scores(tweet)[\"compound\"])\n",
    "tweets_df[\"vader_sentiment\"] = tweets_df[\"compound_scores\"].apply(lambda score: get_sentiment(score, -0.05, 0.05))\n",
    "\n",
    "# print statistics\n",
    "print_stats(\"airline_sentiment\", \"vader_sentiment\")"
   ]
  },
  {
   "cell_type": "code",
   "execution_count": 27,
   "metadata": {},
   "outputs": [
    {
     "name": "stdout",
     "output_type": "stream",
     "text": [
      "accuracy: 0.46434426229508197\n",
      "precision: 0.6735335948663703\n",
      "recall: 0.46434426229508197\n",
      "f1: 0.4765955707495987\n"
     ]
    }
   ],
   "source": [
    "import spacy\n",
    "from textblob import TextBlob\n",
    "\n",
    "tweets_df[\"textblob_polarity\"] = tweets_df[\"text\"].apply(lambda tweet: TextBlob(tweet).sentiment.polarity)\n",
    "tweets_df[\"textblob_sentiment\"] = tweets_df[\"textblob_polarity\"].apply(lambda polarity: get_sentiment(polarity, 0, 0))\n",
    "\n",
    "# print statistics\n",
    "print_stats(\"airline_sentiment\", \"textblob_sentiment\")"
   ]
  }
 ],
 "metadata": {
  "kernelspec": {
   "display_name": "Python 3",
   "language": "python",
   "name": "python3"
  },
  "language_info": {
   "codemirror_mode": {
    "name": "ipython",
    "version": 3
   },
   "file_extension": ".py",
   "mimetype": "text/x-python",
   "name": "python",
   "nbconvert_exporter": "python",
   "pygments_lexer": "ipython3",
   "version": "3.11.9"
  }
 },
 "nbformat": 4,
 "nbformat_minor": 2
}
