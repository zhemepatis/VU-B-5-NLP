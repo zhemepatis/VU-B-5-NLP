{
 "cells": [
  {
   "cell_type": "markdown",
   "metadata": {},
   "source": [
    "## Reguliariosios išraiškos"
   ]
  },
  {
   "cell_type": "markdown",
   "metadata": {},
   "source": [
    "#### Importuokite Reguliariosioms išraiškoms tvarkyti skirtą Python biblioteką"
   ]
  },
  {
   "cell_type": "code",
   "execution_count": 10,
   "metadata": {},
   "outputs": [],
   "source": [
    "import re"
   ]
  },
  {
   "cell_type": "markdown",
   "metadata": {},
   "source": [
    "#### 1. Suraskite visus skaitmenis esančius šiame tekste"
   ]
  },
  {
   "cell_type": "code",
   "execution_count": 11,
   "metadata": {
    "scrolled": true
   },
   "outputs": [
    {
     "data": {
      "text/plain": [
       "['1970', '1975', '1978', '1978', '1976', '1977', '1979', '1981']"
      ]
     },
     "execution_count": 11,
     "metadata": {},
     "output_type": "execute_result"
    }
   ],
   "source": [
    "tekstas=\"During the 1970s, many programmers began to write conceptual ontologies, which structured real-world information into computer-understandable data. Examples are MARGIE (Schank, 1975), SAM (Cullingford, 1978), PAM (Wilensky, 1978), TaleSpin (Meehan, 1976), QUALM (Lehnert, 1977), Politics (Carbonell, 1979), and Plot Units (Lehnert 1981). During this time, the first many chatterbots were written (e.g., PARRY).\"\n",
    "model = r\"\\d+\"\n",
    "re.findall(model, tekstas)\n"
   ]
  },
  {
   "cell_type": "markdown",
   "metadata": {},
   "source": [
    "#### 2. Suraskite visus simbolius tik ne skaitmenis esančius nurodytame tekste"
   ]
  },
  {
   "cell_type": "code",
   "execution_count": 12,
   "metadata": {},
   "outputs": [
    {
     "data": {
      "text/plain": [
       "['During the ',\n",
       " 's, many programmers began to write conceptual ontologies, which structured real-world information into computer-understandable data. Examples are MARGIE (Schank, ',\n",
       " '), SAM (Cullingford, ',\n",
       " '), PAM (Wilensky, ',\n",
       " '), TaleSpin (Meehan, ',\n",
       " '), QUALM (Lehnert, ',\n",
       " '), Politics (Carbonell, ',\n",
       " '), and Plot Units (Lehnert ',\n",
       " '). During this time, the first many chatterbots were written (e.g., PARRY).']"
      ]
     },
     "execution_count": 12,
     "metadata": {},
     "output_type": "execute_result"
    }
   ],
   "source": [
    "tekstas=\"During the 1970s, many programmers began to write conceptual ontologies, which structured real-world information into computer-understandable data. Examples are MARGIE (Schank, 1975), SAM (Cullingford, 1978), PAM (Wilensky, 1978), TaleSpin (Meehan, 1976), QUALM (Lehnert, 1977), Politics (Carbonell, 1979), and Plot Units (Lehnert 1981). During this time, the first many chatterbots were written (e.g., PARRY).\"\n",
    "model = r\"\\D+\"\n",
    "re.findall(model, tekstas)\n"
   ]
  },
  {
   "cell_type": "markdown",
   "metadata": {},
   "source": [
    "#### 3. Suraskite visus skyrybos ženklus esančius nurodytame tekste"
   ]
  },
  {
   "cell_type": "code",
   "execution_count": 13,
   "metadata": {},
   "outputs": [
    {
     "data": {
      "text/plain": [
       "['.', ',', '!', '?']"
      ]
     },
     "execution_count": 13,
     "metadata": {},
     "output_type": "execute_result"
    }
   ],
   "source": [
    "tekstas=\"Sveiki. Šaunu, kad susirinkote!?\"\n",
    "model = r\"[^\\s\\w]\"\n",
    "re.findall(model, tekstas)"
   ]
  },
  {
   "cell_type": "markdown",
   "metadata": {},
   "source": [
    "#### 4. Iš teksto pašalinkite skyrybos ženklus. "
   ]
  },
  {
   "cell_type": "code",
   "execution_count": 14,
   "metadata": {},
   "outputs": [
    {
     "data": {
      "text/plain": [
       "'Sveiki Šaunu kad susirinkote'"
      ]
     },
     "execution_count": 14,
     "metadata": {},
     "output_type": "execute_result"
    }
   ],
   "source": [
    "tekstas=\"Sveiki. Šaunu, kad susirinkote!?\"\n",
    "model = r\"[\\w\\s]+\"\n",
    "\"\".join(re.findall(model, tekstas))\n",
    "\n"
   ]
  },
  {
   "cell_type": "markdown",
   "metadata": {},
   "source": [
    "#### 5. Iš teksto pašalinkite tarpus"
   ]
  },
  {
   "cell_type": "code",
   "execution_count": 15,
   "metadata": {},
   "outputs": [
    {
     "data": {
      "text/plain": [
       "'Sveiki.Šaunu,kadsusirinkote!?'"
      ]
     },
     "execution_count": 15,
     "metadata": {},
     "output_type": "execute_result"
    }
   ],
   "source": [
    "tekstas=\"Sveiki. Šaunu, kad susirinkote!?\"\n",
    "model = r\"[^\\s]+\"\n",
    "\"\".join(re.findall(model, tekstas))"
   ]
  },
  {
   "cell_type": "markdown",
   "metadata": {},
   "source": [
    "#### 6. Pateiktame tekste suraskite  visus žodžius su brūkšneliu"
   ]
  },
  {
   "cell_type": "code",
   "execution_count": 16,
   "metadata": {},
   "outputs": [
    {
     "data": {
      "text/plain": [
       "['1-osios', '3-osios']"
      ]
     },
     "execution_count": 16,
     "metadata": {},
     "output_type": "execute_result"
    }
   ],
   "source": [
    "tekstas=\"Paskelbti 1-osios ir 3-osios vietų laimėtojai\"\n",
    "model = r\"[\\w]+-[\\w]+\"\n",
    "re.findall(model, tekstas)"
   ]
  },
  {
   "cell_type": "markdown",
   "metadata": {},
   "source": [
    "#### 7. Pateikite visus tekste esančius elektroninio pašto adresus"
   ]
  },
  {
   "cell_type": "code",
   "execution_count": 17,
   "metadata": {},
   "outputs": [
    {
     "data": {
      "text/plain": [
       "['info@mano.lt', 'uzdaviniai@mano.lt', 'pagalba@mano.lt']"
      ]
     },
     "execution_count": 17,
     "metadata": {},
     "output_type": "execute_result"
    }
   ],
   "source": [
    "tekstas=\"Sveiki, visas bendras užklausas siųskite adresu info@mano.lt.a Jei turite klausimų, susijusių su uždavinių sprendimu, siųskite juos adresu uzdaviniai@mano.lt. Dėl techninių problemų kreipkitės adresu pagalba@mano.lt.\"\n",
    "model = r\"[\\w.]+[\\w]+@[\\w]+.[\\w]+\"\n",
    "emails = re.findall(model, tekstas)\n",
    "emails"
   ]
  },
  {
   "cell_type": "markdown",
   "metadata": {},
   "source": [
    "#### 8. Iš 7-me uždavinyje gautų el. pašto adresų gaukite visus vartotojų  vardus."
   ]
  },
  {
   "cell_type": "code",
   "execution_count": 18,
   "metadata": {
    "scrolled": false
   },
   "outputs": [
    {
     "data": {
      "text/plain": [
       "['info', 'uzdaviniai', 'pagalba']"
      ]
     },
     "execution_count": 18,
     "metadata": {},
     "output_type": "execute_result"
    }
   ],
   "source": [
    "joined_emails = \" \".join(emails)\n",
    "model = r\"(\\w+)@\\w+\"\n",
    "re.findall(model, tekstas)"
   ]
  }
 ],
 "metadata": {
  "kernelspec": {
   "display_name": "Python 3",
   "language": "python",
   "name": "python3"
  },
  "language_info": {
   "codemirror_mode": {
    "name": "ipython",
    "version": 3
   },
   "file_extension": ".py",
   "mimetype": "text/x-python",
   "name": "python",
   "nbconvert_exporter": "python",
   "pygments_lexer": "ipython3",
   "version": "3.11.9"
  }
 },
 "nbformat": 4,
 "nbformat_minor": 2
}
