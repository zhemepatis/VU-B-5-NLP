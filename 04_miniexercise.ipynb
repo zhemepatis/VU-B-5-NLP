{
 "cells": [
  {
   "cell_type": "markdown",
   "metadata": {},
   "source": [
    "#### <font color=\"red\"> Uždavinių atlikimui naudokite tekstą esantį dokumente `tekstas2.txt`. </font>"
   ]
  },
  {
   "cell_type": "markdown",
   "metadata": {},
   "source": [
    "#### 1. Atspausdinkite pirmas tris įvardytas esybes, esančias tekste.¶"
   ]
  },
  {
   "cell_type": "code",
   "execution_count": 14,
   "metadata": {},
   "outputs": [
    {
     "data": {
      "text/plain": [
       "(The Faculty of Mathematics and Informatics of Vilnius University,\n",
       " four,\n",
       " Data Science,\n",
       " Digital Technologies, Computer Science, Mathematics)"
      ]
     },
     "execution_count": 14,
     "metadata": {},
     "output_type": "execute_result"
    }
   ],
   "source": [
    "import spacy \n",
    "\n",
    "with open(\"data/04_data.txt\") as file:\n",
    "    text = file.read()\n",
    "\n",
    "nlp = spacy.load('en_core_web_sm')\n",
    "doc = nlp(text)\n",
    "\n",
    "entities = doc.ents[0:4]\n",
    "entities"
   ]
  },
  {
   "cell_type": "markdown",
   "metadata": {},
   "source": [
    "#### 2. Vizualizuokite ketvirto sakinio įvardytas esybes. "
   ]
  },
  {
   "cell_type": "code",
   "execution_count": 15,
   "metadata": {},
   "outputs": [
    {
     "data": {
      "text/html": [
       "<span class=\"tex2jax_ignore\"><div class=\"entities\" style=\"line-height: 2.5; direction: ltr\">As of \n",
       "<mark class=\"entity\" style=\"background: #bfe1d9; padding: 0.45em 0.6em; margin: 0 0.25em; line-height: 1; border-radius: 0.35em;\">\n",
       "    May 2018\n",
       "    <span style=\"font-size: 0.8em; font-weight: bold; line-height: 1; border-radius: 0.35em; vertical-align: middle; margin-left: 0.5rem\">DATE</span>\n",
       "</mark>\n",
       ", the Dean of the Faculty is Associate Professor Paulius \n",
       "<mark class=\"entity\" style=\"background: #aa9cfc; padding: 0.45em 0.6em; margin: 0 0.25em; line-height: 1; border-radius: 0.35em;\">\n",
       "    Drungilas\n",
       "    <span style=\"font-size: 0.8em; font-weight: bold; line-height: 1; border-radius: 0.35em; vertical-align: middle; margin-left: 0.5rem\">PERSON</span>\n",
       "</mark>\n",
       ", a long-time academic at \n",
       "<mark class=\"entity\" style=\"background: #7aecec; padding: 0.45em 0.6em; margin: 0 0.25em; line-height: 1; border-radius: 0.35em;\">\n",
       "    Vilnius University\n",
       "    <span style=\"font-size: 0.8em; font-weight: bold; line-height: 1; border-radius: 0.35em; vertical-align: middle; margin-left: 0.5rem\">ORG</span>\n",
       "</mark>\n",
       " and \n",
       "<mark class=\"entity\" style=\"background: #e4e7d2; padding: 0.45em 0.6em; margin: 0 0.25em; line-height: 1; border-radius: 0.35em;\">\n",
       "    one\n",
       "    <span style=\"font-size: 0.8em; font-weight: bold; line-height: 1; border-radius: 0.35em; vertical-align: middle; margin-left: 0.5rem\">CARDINAL</span>\n",
       "</mark>\n",
       " of the \n",
       "<mark class=\"entity\" style=\"background: #7aecec; padding: 0.45em 0.6em; margin: 0 0.25em; line-height: 1; border-radius: 0.35em;\">\n",
       "    University\n",
       "    <span style=\"font-size: 0.8em; font-weight: bold; line-height: 1; border-radius: 0.35em; vertical-align: middle; margin-left: 0.5rem\">ORG</span>\n",
       "</mark>\n",
       "’s youngest professors.</div></span>"
      ],
      "text/plain": [
       "<IPython.core.display.HTML object>"
      ]
     },
     "metadata": {},
     "output_type": "display_data"
    }
   ],
   "source": [
    "from spacy import displacy\n",
    "from spacy.tokens import Span\n",
    "\n",
    "sentences = [item.__str__() for item in doc.sents]\n",
    "target_sentence = sentences[3]\n",
    "\n",
    "sentence_doc = nlp(target_sentence)\n",
    "displacy.render(sentence_doc, style=\"ent\", jupyter=True)"
   ]
  },
  {
   "cell_type": "markdown",
   "metadata": {},
   "source": [
    "#### <font color=\"red\"> 3 ir 4 uždavinių atlikimui naudokite tekstą esantį dokumente `tekstas3.pdf`. </font>"
   ]
  },
  {
   "cell_type": "markdown",
   "metadata": {},
   "source": [
    "#### 3. Vizualizuokite įvardytas estybes, kurių žyma yra \"ORG\""
   ]
  },
  {
   "cell_type": "code",
   "execution_count": 16,
   "metadata": {},
   "outputs": [
    {
     "data": {
      "text/html": [
       "<span class=\"tex2jax_ignore\"><div class=\"entities\" style=\"line-height: 2.5; direction: ltr\">\n",
       "<mark class=\"entity\" style=\"background: #7aecec; padding: 0.45em 0.6em; margin: 0 0.25em; line-height: 1; border-radius: 0.35em;\">\n",
       "    Vilnius University\n",
       "    <span style=\"font-size: 0.8em; font-weight: bold; line-height: 1; border-radius: 0.35em; vertical-align: middle; margin-left: 0.5rem\">ORG</span>\n",
       "</mark>\n",
       " (Lithuanian: Vilniaus universitetas) <br>is a public research university, which is the first and <br>largest university in Lithuania , as well as one of the <br>oldest and most prominent higher education <br>institutions in Central and Eastern Europe. Today, it is <br>Lithuania's leading research institution, ranked among <br>the Top 29% Higher Education Institutions in the <br>world.  <br> <br>The university wa s founded in 1579 as \n",
       "<mark class=\"entity\" style=\"background: #7aecec; padding: 0.45em 0.6em; margin: 0 0.25em; line-height: 1; border-radius: 0.35em;\">\n",
       "    the Jesuit \n",
       "Academy (College\n",
       "    <span style=\"font-size: 0.8em; font-weight: bold; line-height: 1; border-radius: 0.35em; vertical-align: middle; margin-left: 0.5rem\">ORG</span>\n",
       "</mark>\n",
       ") of Vilnius by Stephen Báthory. It <br>was the third oldest university (after \n",
       "<mark class=\"entity\" style=\"background: #7aecec; padding: 0.45em 0.6em; margin: 0 0.25em; line-height: 1; border-radius: 0.35em;\">\n",
       "    the Cracow \n",
       "Academy\n",
       "    <span style=\"font-size: 0.8em; font-weight: bold; line-height: 1; border-radius: 0.35em; vertical-align: middle; margin-left: 0.5rem\">ORG</span>\n",
       "</mark>\n",
       " and the Albertina) in the Polish –Lithuanian <br>\n",
       "<mark class=\"entity\" style=\"background: #7aecec; padding: 0.45em 0.6em; margin: 0 0.25em; line-height: 1; border-radius: 0.35em;\">\n",
       "    Commonwealth\n",
       "    <span style=\"font-size: 0.8em; font-weight: bold; line-height: 1; border-radius: 0.35em; vertical-align: middle; margin-left: 0.5rem\">ORG</span>\n",
       "</mark>\n",
       ". Due to the failure of the November <br>Uprising (1830 –1831),  the university was closed <br>down and suspended its operation until 1919. In the <br>aftermath of World War I, the university saw failed <br>attempts to restart it by the local Poles, Lithuanians, <br>and by invading Soviet forces. It finally resumed <br>operations as \n",
       "<mark class=\"entity\" style=\"background: #7aecec; padding: 0.45em 0.6em; margin: 0 0.25em; line-height: 1; border-radius: 0.35em;\">\n",
       "    Polis h Stefan Batory University\n",
       "    <span style=\"font-size: 0.8em; font-weight: bold; line-height: 1; border-radius: 0.35em; vertical-align: middle; margin-left: 0.5rem\">ORG</span>\n",
       "</mark>\n",
       " in <br>August 1919.  <br> <br>Following the Soviet invasion of Poland in September \n",
       "1939, the university was briefly administered by the Lithuanian authorities (from October 1939), and then <br>after Soviet annexation of Lithuania (June 1940), <br>punctuated by a period of German occupation after <br>\n",
       "<mark class=\"entity\" style=\"background: #7aecec; padding: 0.45em 0.6em; margin: 0 0.25em; line-height: 1; border-radius: 0.35em;\">\n",
       "    Operation Barbarossa\n",
       "    <span style=\"font-size: 0.8em; font-weight: bold; line-height: 1; border-radius: 0.35em; vertical-align: middle; margin-left: 0.5rem\">ORG</span>\n",
       "</mark>\n",
       ", from 1941 to 1944, when it <br>was administrated as \n",
       "<mark class=\"entity\" style=\"background: #7aecec; padding: 0.45em 0.6em; margin: 0 0.25em; line-height: 1; border-radius: 0.35em;\">\n",
       "    the Vilnius State University\n",
       "    <span style=\"font-size: 0.8em; font-weight: bold; line-height: 1; border-radius: 0.35em; vertical-align: middle; margin-left: 0.5rem\">ORG</span>\n",
       "</mark>\n",
       ". In <br>1945, the Polish community of students and scholars <br>of \n",
       "<mark class=\"entity\" style=\"background: #7aecec; padding: 0.45em 0.6em; margin: 0 0.25em; line-height: 1; border-radius: 0.35em;\">\n",
       "    Stefan Batory University\n",
       "    <span style=\"font-size: 0.8em; font-weight: bold; line-height: 1; border-radius: 0.35em; vertical-align: middle; margin-left: 0.5rem\">ORG</span>\n",
       "</mark>\n",
       " was transferred to <br>\n",
       "<mark class=\"entity\" style=\"background: #7aecec; padding: 0.45em 0.6em; margin: 0 0.25em; line-height: 1; border-radius: 0.35em;\">\n",
       "    Nicolau s Copernicus University\n",
       "    <span style=\"font-size: 0.8em; font-weight: bold; line-height: 1; border-radius: 0.35em; vertical-align: middle; margin-left: 0.5rem\">ORG</span>\n",
       "</mark>\n",
       " in Toruń.[5] After <br>Lithuania regained its independence in 1990, <br>following the dissolution of the Soviet Union, it <br>resumed its status as one of the prominent universities <br>in Lithuania.  <br> <br>The university has facilities in Kaunas and Šia uliai. It <br>is composed of fifteen academic faculties that offer <br>more than 200 study programmes in a wide range of <br>academic disciplines for over 24 000 students.  <br> <br>\n",
       "<mark class=\"entity\" style=\"background: #7aecec; padding: 0.45em 0.6em; margin: 0 0.25em; line-height: 1; border-radius: 0.35em;\">\n",
       "    Vilnius University\n",
       "    <span style=\"font-size: 0.8em; font-weight: bold; line-height: 1; border-radius: 0.35em; vertical-align: middle; margin-left: 0.5rem\">ORG</span>\n",
       "</mark>\n",
       " is known for its strong community <br>ties, interaction and participation in additional <br>activities offered by the non -academic departments of <br>the \n",
       "<mark class=\"entity\" style=\"background: #7aecec; padding: 0.45em 0.6em; margin: 0 0.25em; line-height: 1; border-radius: 0.35em;\">\n",
       "    University\n",
       "    <span style=\"font-size: 0.8em; font-weight: bold; line-height: 1; border-radius: 0.35em; vertical-align: middle; margin-left: 0.5rem\">ORG</span>\n",
       "</mark>\n",
       ", such as \n",
       "<mark class=\"entity\" style=\"background: #7aecec; padding: 0.45em 0.6em; margin: 0 0.25em; line-height: 1; border-radius: 0.35em;\">\n",
       "    the Cultural Centre, Health\n",
       "    <span style=\"font-size: 0.8em; font-weight: bold; line-height: 1; border-radius: 0.35em; vertical-align: middle; margin-left: 0.5rem\">ORG</span>\n",
       "</mark>\n",
       " and <br>Sports Centre, Library, Museum, Botanical Gardens, <br>and other institutions.   <br>Since 2016, \n",
       "<mark class=\"entity\" style=\"background: #7aecec; padding: 0.45em 0.6em; margin: 0 0.25em; line-height: 1; border-radius: 0.35em;\">\n",
       "    Vilnius University\n",
       "    <span style=\"font-size: 0.8em; font-weight: bold; line-height: 1; border-radius: 0.35em; vertical-align: middle; margin-left: 0.5rem\">ORG</span>\n",
       "</mark>\n",
       " has been a member of <br>a netwo rk of prestigious universities – the Coimbra <br>Group – and since 2019, it has belonged to the <br>\n",
       "<mark class=\"entity\" style=\"background: #7aecec; padding: 0.45em 0.6em; margin: 0 0.25em; line-height: 1; border-radius: 0.35em;\">\n",
       "    European University Alliance\n",
       "    <span style=\"font-size: 0.8em; font-weight: bold; line-height: 1; border-radius: 0.35em; vertical-align: middle; margin-left: 0.5rem\">ORG</span>\n",
       "</mark>\n",
       " ARQUS. The alliance <br>aims to create joint, long -term, sustainable structures <br>and mechanisms for close inter -institutional <br>cooperation in  the fields of studies, science and social <br>partnerships . <br> <br>\n",
       "<mark class=\"entity\" style=\"background: #7aecec; padding: 0.45em 0.6em; margin: 0 0.25em; line-height: 1; border-radius: 0.35em;\">\n",
       "    The Vilnius University Foundation\n",
       "    <span style=\"font-size: 0.8em; font-weight: bold; line-height: 1; border-radius: 0.35em; vertical-align: middle; margin-left: 0.5rem\">ORG</span>\n",
       "</mark>\n",
       " was established on <br>6 April 2016, thus becoming the first university <br>endowment in Lithuania. The \n",
       "<mark class=\"entity\" style=\"background: #7aecec; padding: 0.45em 0.6em; margin: 0 0.25em; line-height: 1; border-radius: 0.35em;\">\n",
       "    Foundation\n",
       "    <span style=\"font-size: 0.8em; font-weight: bold; line-height: 1; border-radius: 0.35em; vertical-align: middle; margin-left: 0.5rem\">ORG</span>\n",
       "</mark>\n",
       " supports <br>scientific research of the highest quality an d the <br>creation of study programmes that correspond to <br>global demands, while encouraging other high added -<br>value projects.  <br> <br>In undergrounds of old \n",
       "<mark class=\"entity\" style=\"background: #7aecec; padding: 0.45em 0.6em; margin: 0 0.25em; line-height: 1; border-radius: 0.35em;\">\n",
       "    University\n",
       "    <span style=\"font-size: 0.8em; font-weight: bold; line-height: 1; border-radius: 0.35em; vertical-align: middle; margin-left: 0.5rem\">ORG</span>\n",
       "</mark>\n",
       "'s building is located <br>the cenotaph of eleven Old Prussians tribes along with <br>the small temple of four gods and four goddesses from <br>baltic mythology. . </div></span>"
      ],
      "text/plain": [
       "<IPython.core.display.HTML object>"
      ]
     },
     "metadata": {},
     "output_type": "display_data"
    }
   ],
   "source": [
    "import PyPDF2\n",
    "\n",
    "file = open(\"data/04_data.pdf\", \"rb\")\n",
    "pdf_reader = PyPDF2.PdfReader(file)\n",
    "\n",
    "page_num = len(pdf_reader.pages)\n",
    "\n",
    "text = \"\"\n",
    "for page in pdf_reader.pages:\n",
    "    text += page.extract_text();\n",
    "\n",
    "page_doc = nlp(text)\n",
    "\n",
    "opt = {\"ents\":[\"ORG\"]}\n",
    "displacy.render(page_doc, style=\"ent\", options=opt, jupyter=True)\n",
    "\n",
    "file.close()"
   ]
  },
  {
   "cell_type": "markdown",
   "metadata": {},
   "source": [
    "#### 4. Vizualizuokite trečio sakinio įvardytas esybes. Pakeiskite elementų fono spalvą bei pritaikykite gradiento efektą (spalvas parinkdami savo nuožiūra)."
   ]
  },
  {
   "cell_type": "code",
   "execution_count": 17,
   "metadata": {},
   "outputs": [
    {
     "data": {
      "text/html": [
       "<span class=\"tex2jax_ignore\"><div class=\"entities\" style=\"line-height: 2.5; direction: ltr\">The university wa s founded in \n",
       "<mark class=\"entity\" style=\"background: #FFE5B4; padding: 0.45em 0.6em; margin: 0 0.25em; line-height: 1; border-radius: 0.35em;\">\n",
       "    1579\n",
       "    <span style=\"font-size: 0.8em; font-weight: bold; line-height: 1; border-radius: 0.35em; vertical-align: middle; margin-left: 0.5rem\">DATE</span>\n",
       "</mark>\n",
       " as \n",
       "<mark class=\"entity\" style=\"background: #ffb6c1; padding: 0.45em 0.6em; margin: 0 0.25em; line-height: 1; border-radius: 0.35em;\">\n",
       "    the Jesuit \n",
       "Academy (College\n",
       "    <span style=\"font-size: 0.8em; font-weight: bold; line-height: 1; border-radius: 0.35em; vertical-align: middle; margin-left: 0.5rem\">ORG</span>\n",
       "</mark>\n",
       ") of \n",
       "<mark class=\"entity\" style=\"background: linear-gradient(90deg, #064273, #6495ED); padding: 0.45em 0.6em; margin: 0 0.25em; line-height: 1; border-radius: 0.35em;\">\n",
       "    Vilnius\n",
       "    <span style=\"font-size: 0.8em; font-weight: bold; line-height: 1; border-radius: 0.35em; vertical-align: middle; margin-left: 0.5rem\">PERSON</span>\n",
       "</mark>\n",
       " by \n",
       "<mark class=\"entity\" style=\"background: linear-gradient(90deg, #064273, #6495ED); padding: 0.45em 0.6em; margin: 0 0.25em; line-height: 1; border-radius: 0.35em;\">\n",
       "    Stephen Báthory\n",
       "    <span style=\"font-size: 0.8em; font-weight: bold; line-height: 1; border-radius: 0.35em; vertical-align: middle; margin-left: 0.5rem\">PERSON</span>\n",
       "</mark>\n",
       ".</div></span>"
      ],
      "text/plain": [
       "<IPython.core.display.HTML object>"
      ]
     },
     "metadata": {},
     "output_type": "display_data"
    }
   ],
   "source": [
    "doc = nlp(text)\n",
    "sentences = [item.__str__() for item in doc.sents]\n",
    "\n",
    "target_sentence = sentences[2]\n",
    "sentence_doc = nlp(target_sentence)\n",
    "\n",
    "colors = {\n",
    "    \"PERSON\": \"linear-gradient(90deg, #064273, #6495ED)\",\n",
    "    \"ORG\": \"#ffb6c1\",\n",
    "    \"DATE\": \"#FFE5B4\"\n",
    "}\n",
    "opt = {\n",
    "    \"ent\": [\"PERSON\", \"DATE\", \"ORG\"], \n",
    "    \"colors\": colors, \n",
    "}\n",
    "\n",
    "displacy.render(sentence_doc, style=\"ent\", options=opt, jupyter=True)"
   ]
  },
  {
   "cell_type": "markdown",
   "metadata": {},
   "source": [
    "#### 5. Raskite visas datas. Naudokite naudojant tiek spaCy, tiek reguliariąsias išraiškas. "
   ]
  },
  {
   "cell_type": "code",
   "execution_count": 18,
   "metadata": {},
   "outputs": [
    {
     "name": "stdout",
     "output_type": "stream",
     "text": [
      "['2024-10-15', '2024-09-30', 'May 5, 2023', '2025-01-10', '2025-01-11', 'June 1st', 'August 2024']\n",
      "[2024-10-15, 2024-09-30, May 5, 2023, 2025-01-10, 2025-01-11, June 1st, August 2024]\n"
     ]
    }
   ],
   "source": [
    "import re\n",
    "\n",
    "tekstas=\"The conference will take place on 2024-10-15, but registration will end on 2024-09-30. During the last meeting, which took place on May 5, 2023, a new system was introduced. We will meet next time on 2025-01-10 or 2025-01-11, depending on the number of participants. We agreed to start the project on June 1st, and the first results will be presented in August 2024.\"\n",
    "\n",
    "# using regular expressions\n",
    "expr = r\"(?:\\d{4}-\\d{2}-\\d{2})|(?:\\w{3,9}\\s+\\d{1,2},\\s+\\d{4})|(?:\\w{3,9}\\s+\\d{1,2}(?:st|nd|rd|th))|(?:\\w{3,9}\\s+\\d{4})\"\n",
    "print(re.findall(expr, tekstas))\n",
    "\n",
    "# using spacy named entities \n",
    "doc = nlp(tekstas)\n",
    "result = []\n",
    "for item in doc.ents:\n",
    "    if item.label_ == \"DATE\":\n",
    "        result.append(item)\n",
    "\n",
    "print(result)"
   ]
  },
  {
   "cell_type": "markdown",
   "metadata": {},
   "source": [
    "#### 6. Raskite visas datas. Naudokite naudojant tiek spaCy, tiek reguliariąsias išraiškas."
   ]
  },
  {
   "cell_type": "code",
   "execution_count": 19,
   "metadata": {},
   "outputs": [
    {
     "name": "stdout",
     "output_type": "stream",
     "text": [
      "['2024-10-15', '2024-09-30', '2023 metų gegužės 5 dieną', '2025-01-10', '2025-01-11', 'birželio 1 d.', '2024 m. rugpjūčio mėnesį']\n",
      "[2023 metų gegužės 5 dieną, birželio 1 d., 2024 m. rugpjūčio mėnesį]\n"
     ]
    }
   ],
   "source": [
    "tekstas=\"Konferencija įvyks 2024-10-15, tačiau registracija baigsis 2024-09-30. Praėjusiame susitikime, kuris vyko 2023 metų gegužės 5 dieną, buvo pristatyta nauja sistema. Kitą kartą susitiksime 2025-01-10 arba 2025-01-11, priklausomai nuo dalyvių skaičiaus. Susitarėme pradėti projektą birželio 1 d., o pirmieji rezultatai bus pateikti 2024 m. rugpjūčio mėnesį.\"\n",
    "\n",
    "# using regular expressions\n",
    "expr = r\"(?:\\d{4}-\\d{2}-\\d{2})|(?:(?:\\d{4}\\s+(?:metų|m.)\\s+)?(?:\\w{5,9}\\s+\\d{1,2}\\s+(?:dieną|d.)))|(?:\\d{4}\\s+(?:metų|m.)\\s+\\w{5,9}\\s+(?:mėnesį|mėn.))\"\n",
    "print(re.findall(expr, tekstas))\n",
    "\n",
    "# using spacy named entities \n",
    "nlp = spacy.load(\"lt_core_news_sm\")\n",
    "doc = nlp(tekstas)\n",
    "result = []\n",
    "for item in doc.ents:\n",
    "    if item.label_ == \"TIME\":\n",
    "        result.append(item)\n",
    "\n",
    "print(result)"
   ]
  },
  {
   "cell_type": "markdown",
   "metadata": {},
   "source": [
    "#### 7. Patikrinkite, ar tikriniai daiktavardžiai (pagal jų žymėjimą su POS) sutampa su geo-politinėmis esybėmis (t.y. vietovardžiais)"
   ]
  },
  {
   "cell_type": "code",
   "execution_count": 20,
   "metadata": {},
   "outputs": [
    {
     "name": "stdout",
     "output_type": "stream",
     "text": [
      "TOKEN           POS             ENT            \n",
      "---             ---             ---            \n",
      "John            PROPN           PERSON         \n",
      "London          PROPN           GPE            \n",
      "Paris           PROPN           GPE            \n",
      "Tokyo           PROPN           GPE            \n",
      "New             PROPN           GPE            \n",
      "York            PROPN           GPE            \n",
      "Berlin          PROPN           GPE            \n",
      "Sydney          PROPN           GPE            \n",
      "São             PROPN           PERSON         \n",
      "Paulo           PROPN           PERSON         \n",
      "Madrid          PROPN           GPE            \n",
      "Barcelona       PROPN           GPE            \n",
      "Spain           PROPN           GPE            \n",
      "Rome            PROPN           GPE            \n",
      "Italy           PROPN           GPE            \n",
      "Lisa            PROPN           PERSON         \n",
      "Toronto         PROPN           GPE            \n",
      "Canada          PROPN           GPE            \n",
      "San             PROPN           GPE            \n",
      "Francisco       PROPN           GPE            \n",
      "USA             PROPN           GPE            \n"
     ]
    }
   ],
   "source": [
    "from spacy.tokens import Span\n",
    "\n",
    "text=\"John recently traveled from London to Paris and plans to visit Tokyo next year. The headquarters of the company is located in New York, but it has offices in Berlin, Sydney, and São Paulo. Our next business trip will take us to Madrid and Barcelona in Spain, and later to Rome in Italy. Lisa was born in Toronto, Canada, but she now lives in San Francisco, USA.\"\n",
    "\n",
    "nlp = spacy.load('en_core_web_sm')\n",
    "doc = nlp(text)\n",
    "\n",
    "\n",
    "print(f\"{'TOKEN':15} {'POS':15} {'ENT':15}\")\n",
    "print(f\"{'---':15} {'---':15} {'---':15}\")\n",
    "for token in doc:\n",
    "    if token.pos_ == \"PROPN\":\n",
    "        print(f\"{token.__str__():15} {token.pos_:15} {token.ent_type_:15}\")\n"
   ]
  }
 ],
 "metadata": {
  "kernelspec": {
   "display_name": "Python 3",
   "language": "python",
   "name": "python3"
  },
  "language_info": {
   "codemirror_mode": {
    "name": "ipython",
    "version": 3
   },
   "file_extension": ".py",
   "mimetype": "text/x-python",
   "name": "python",
   "nbconvert_exporter": "python",
   "pygments_lexer": "ipython3",
   "version": "3.11.9"
  }
 },
 "nbformat": 4,
 "nbformat_minor": 2
}
