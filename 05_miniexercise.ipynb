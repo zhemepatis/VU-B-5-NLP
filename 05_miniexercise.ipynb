{
 "cells": [
  {
   "cell_type": "code",
   "execution_count": 57,
   "metadata": {},
   "outputs": [],
   "source": [
    "import nltk\n",
    "\n",
    "def print_boundaries(sentence, grammar):\n",
    "    parser = nltk.ChartParser(grammar)\n",
    "\n",
    "    sentence = sentence.split()\n",
    "    for tree in parser.parse(sentence):\n",
    "        tree.draw()\n",
    "        print(tree)"
   ]
  },
  {
   "cell_type": "code",
   "execution_count": 58,
   "metadata": {},
   "outputs": [
    {
     "name": "stdout",
     "output_type": "stream",
     "text": [
      "(S (NP Mary) (VP (V saw) (NP Bob)))\n"
     ]
    }
   ],
   "source": [
    "grammar = nltk.CFG.fromstring(\n",
    "\"\"\"\n",
    "S -> NP VP\n",
    "VP -> V NP\n",
    "NP -> 'Mary'\n",
    "V -> 'saw'\n",
    "NP -> 'Bob'\n",
    "\"\"\")\n",
    "\n",
    "sentence = \"Mary saw Bob\"\n",
    "boundaries = print_boundaries(sentence, grammar)"
   ]
  },
  {
   "cell_type": "code",
   "execution_count": 59,
   "metadata": {},
   "outputs": [
    {
     "name": "stdout",
     "output_type": "stream",
     "text": [
      "(S\n",
      "  (NP (Det The) (N dog))\n",
      "  (VP\n",
      "    (V saw)\n",
      "    (NP (Det a) (N man))\n",
      "    (PP (P in) (NP (Det the) (N park)))))\n",
      "(S\n",
      "  (NP (Det The) (N dog))\n",
      "  (VP\n",
      "    (V saw)\n",
      "    (NP (Det a) (N man) (PP (P in) (NP (Det the) (N park))))))\n"
     ]
    }
   ],
   "source": [
    "grammar = nltk.CFG.fromstring(\n",
    "\"\"\"\n",
    "S -> NP VP\n",
    "VP -> V NP PP | V NP\n",
    "PP -> P NP\n",
    "NP -> Det N | Det N PP\n",
    "Det -> 'The' | 'a' | 'the'\n",
    "N -> 'dog' | 'park' | 'man'\n",
    "V -> 'saw'\n",
    "P -> 'in'\n",
    "\"\"\")\n",
    "\n",
    "sentence = \"The dog saw a man in the park\"\n",
    "boundaries = print_boundaries(sentence, grammar)"
   ]
  },
  {
   "cell_type": "code",
   "execution_count": 60,
   "metadata": {},
   "outputs": [
    {
     "name": "stdout",
     "output_type": "stream",
     "text": [
      "(S\n",
      "  (NP (Det A) (N student))\n",
      "  (VP (V wrote) (NP (Det the) (N equation))))\n"
     ]
    }
   ],
   "source": [
    "grammar = nltk.CFG.fromstring(\n",
    "\"\"\"\n",
    "S -> NP VP\n",
    "NP -> Det N\n",
    "VP -> V NP\n",
    "Det -> 'A' | 'the'\n",
    "N -> 'student' | 'equation'\n",
    "V -> 'wrote'\n",
    "\"\"\")\n",
    "\n",
    "sentence = \"A student wrote the equation\"\n",
    "boundaries = print_boundaries(sentence, grammar)"
   ]
  },
  {
   "cell_type": "code",
   "execution_count": 61,
   "metadata": {},
   "outputs": [
    {
     "name": "stdout",
     "output_type": "stream",
     "text": [
      "(S\n",
      "  (NP (Det the) (Nom (Adj angry) (Nom (N bear))))\n",
      "  (VP\n",
      "    (V chased)\n",
      "    (NP\n",
      "      (Det the)\n",
      "      (Nom (Adj frightened) (Nom (Adj little) (Nom (N squirrel)))))))\n"
     ]
    }
   ],
   "source": [
    "grammar = nltk.CFG.fromstring(\n",
    "\"\"\"\n",
    "S -> NP VP\n",
    "NP -> Det Nom\n",
    "VP -> V NP\n",
    "Nom -> Adj Nom | N\n",
    "Det -> 'the'\n",
    "Adj -> 'angry' | 'frightened' | 'little'\n",
    "N -> 'bear' | 'squirrel'\n",
    "V -> 'chased'\n",
    "\"\"\")\n",
    "\n",
    "sentence = \"the angry bear chased the frightened little squirrel\"\n",
    "boundaries = print_boundaries(sentence, grammar)"
   ]
  }
 ],
 "metadata": {
  "kernelspec": {
   "display_name": "Python 3",
   "language": "python",
   "name": "python3"
  },
  "language_info": {
   "codemirror_mode": {
    "name": "ipython",
    "version": 3
   },
   "file_extension": ".py",
   "mimetype": "text/x-python",
   "name": "python",
   "nbconvert_exporter": "python",
   "pygments_lexer": "ipython3",
   "version": "3.11.9"
  }
 },
 "nbformat": 4,
 "nbformat_minor": 2
}
